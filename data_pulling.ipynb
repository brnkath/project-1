{
 "cells": [
  {
   "cell_type": "code",
   "execution_count": null,
   "metadata": {},
   "outputs": [],
   "source": [
    "import pandas as pd\n",
    "import hvplot.pandas\n",
    "from pathlib import Path"
   ]
  },
  {
   "cell_type": "code",
   "execution_count": null,
   "metadata": {},
   "outputs": [],
   "source": [
    "clean_2020_data = Path(\"output/clean_2020.csv\")\n",
    "clean_2023_data = Path(\"output/clean_2023.csv\")\n",
    "personal_csv = Path('output/per_city_2023.csv')"
   ]
  },
  {
   "cell_type": "code",
   "execution_count": null,
   "metadata": {},
   "outputs": [],
   "source": [
    "clean_2020_df = pd.read_csv(clean_2020_data)\n",
    "clean_2023_df = pd.read_csv(clean_2023_data)"
   ]
  },
  {
   "cell_type": "code",
   "execution_count": null,
   "metadata": {},
   "outputs": [],
   "source": [
    "san_fran_2020 = clean_2020_df.loc[(clean_2020_df[\"City\"] == \"San Francisco\")]\n",
    "san_fran_2023 = clean_2023_df.loc[(clean_2023_df[\"City\"] == \"San Francisco\")]\n",
    "twin_cities_2020 = clean_2020_df.loc[(clean_2020_df[\"City\"] == \"Twin Cities MSA\")]\n",
    "twin_cities_2023 = clean_2023_df.loc[(clean_2023_df[\"City\"] == \"Twin Cities MSA\")]\n",
    "new_york_2020 = clean_2020_df.loc[(clean_2020_df[\"City\"] == \"New York City\")]\n",
    "new_york_2023 = clean_2023_df.loc[(clean_2023_df[\"City\"] == \"New York City\")]"
   ]
  },
  {
   "cell_type": "code",
   "execution_count": null,
   "metadata": {},
   "outputs": [],
   "source": [
    "twin_cities_2023.groupby(['Listing Type'])['Price'].mean()"
   ]
  },
  {
   "cell_type": "code",
   "execution_count": null,
   "metadata": {},
   "outputs": [],
   "source": [
    "new_york_2023.groupby(['Listing Type'])['Price'].mean()\n"
   ]
  },
  {
   "cell_type": "code",
   "execution_count": null,
   "metadata": {},
   "outputs": [],
   "source": [
    "san_fran_2023.groupby(['Listing Type'])['Price'].mean()"
   ]
  },
  {
   "cell_type": "code",
   "execution_count": null,
   "metadata": {},
   "outputs": [],
   "source": [
    "clean_2020_df"
   ]
  },
  {
   "cell_type": "code",
   "execution_count": null,
   "metadata": {},
   "outputs": [],
   "source": [
    "clean_2023_df"
   ]
  }
 ],
 "metadata": {
  "kernelspec": {
   "display_name": "dev",
   "language": "python",
   "name": "python3"
  },
  "language_info": {
   "codemirror_mode": {
    "name": "ipython",
    "version": 3
   },
   "file_extension": ".py",
   "mimetype": "text/x-python",
   "name": "python",
   "nbconvert_exporter": "python",
   "pygments_lexer": "ipython3",
   "version": "3.10.12"
  },
  "orig_nbformat": 4
 },
 "nbformat": 4,
 "nbformat_minor": 2
}
