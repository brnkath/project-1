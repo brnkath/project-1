{
 "cells": [
  {
   "cell_type": "code",
   "execution_count": null,
   "metadata": {},
   "outputs": [],
   "source": [
    "# Dependencies\n",
    "import matplotlib.pyplot as plt\n",
    "import pandas as pd\n",
    "import numpy as np\n",
    "import scipy.stats as st\n",
    "from scipy.stats import linregress\n",
    "from pathlib import Path\n",
    "\n",
    "# Turn off warning messages\n",
    "import warnings\n",
    "warnings.filterwarnings(\"ignore\")"
   ]
  },
  {
   "cell_type": "code",
   "execution_count": null,
   "metadata": {},
   "outputs": [],
   "source": [
    "# Import the csv files\n",
    "clean_2020_data = Path(\"output/clean_2020.csv\")\n",
    "clean_2023_data = Path(\"output/clean_2023.csv\")"
   ]
  },
  {
   "cell_type": "code",
   "execution_count": null,
   "metadata": {},
   "outputs": [],
   "source": [
    "# Create dataframes from the imported csv files\n",
    "clean_2020_df = pd.read_csv(clean_2020_data)\n",
    "clean_2023_df = pd.read_csv(clean_2023_data)"
   ]
  },
  {
   "cell_type": "code",
   "execution_count": null,
   "metadata": {},
   "outputs": [],
   "source": [
    "# Display the cleaned 2020 dataframe\n",
    "clean_2020_df.head()"
   ]
  },
  {
   "cell_type": "code",
   "execution_count": null,
   "metadata": {},
   "outputs": [],
   "source": [
    "# Display the cleaned 2023 dataframe\n",
    "clean_2023_df.head()"
   ]
  },
  {
   "cell_type": "markdown",
   "metadata": {},
   "source": [
    "## Scatterplots & Linear Regressions "
   ]
  },
  {
   "cell_type": "code",
   "execution_count": null,
   "metadata": {},
   "outputs": [],
   "source": [
    "# Define a function to create Linear Regression plots\n",
    "def lin_reg_plot(x_values, y_values,x_label,y_label):\n",
    "    (slope, intercept, rvalue, pvalue, stderr) = linregress(x_values, y_values)\n",
    "    regress_values = x_values * slope + intercept\n",
    "    line_eq = \"y = \" + str(round(slope, 2)) + \"x + \" + str(round(intercept, 2))\n",
    "    print(f\"The r-value is: {rvalue}\")\n",
    "    plt.scatter(x_values, y_values)\n",
    "    plt.title(f'{y_label} vs. {x_label}')\n",
    "    plt.xlabel(x_label)\n",
    "    plt.ylabel(y_label)\n",
    "    plt.plot(x_values, regress_values, \"r-\")\n",
    "    "
   ]
  },
  {
   "cell_type": "markdown",
   "metadata": {},
   "source": [
    "### Scatterplots for 2023"
   ]
  },
  {
   "cell_type": "code",
   "execution_count": null,
   "metadata": {},
   "outputs": [],
   "source": [
    "#Compare Price vs. # of Host Listings in all Cities 2023\n",
    "\n",
    "lin_reg_plot(clean_2023_df[\"Number of Listings Per Host\"],clean_2023_df[\"Price\"],\n",
    "\"Number of Listings Per Host\", \"Price\")\n",
    "plt.savefig(\"images/2023scatterplot1.png\")\n",
    "plt.show()\n"
   ]
  },
  {
   "cell_type": "code",
   "execution_count": null,
   "metadata": {},
   "outputs": [],
   "source": [
    "#Compare Price vs. Minimum Night Stays in all Cities 2023\n",
    "lin_reg_plot(clean_2023_df[\"Minimum Nights\"],clean_2023_df[\"Price\"],\n",
    "\"Minimum Nights\", \"Price\")\n",
    "plt.savefig(\"images/2023scatterplot2.png\")\n",
    "plt.show()"
   ]
  },
  {
   "cell_type": "code",
   "execution_count": null,
   "metadata": {},
   "outputs": [],
   "source": [
    "#Compare Price vs. Availability 2023\n",
    "lin_reg_plot(clean_2023_df[\"Availability\"],clean_2023_df[\"Price\"],\n",
    "\"Availability\", \"Price\")\n",
    "plt.savefig(\"images/2023scatterplot3\")\n",
    "plt.show()\n"
   ]
  },
  {
   "cell_type": "code",
   "execution_count": null,
   "metadata": {},
   "outputs": [],
   "source": [
    "#Compare Price vs. # of Reviews 2023\n",
    "lin_reg_plot(clean_2023_df[\"Number of Reviews\"],clean_2023_df[\"Price\"],\n",
    "\"Number of Reviews\", \"Price\")\n",
    "plt.savefig(\"images/2023scatterplot4\")\n",
    "plt.show()"
   ]
  },
  {
   "cell_type": "markdown",
   "metadata": {},
   "source": [
    "#### Scatterplots and Linear Regressions for 2023 Summary\n",
    "We plotted the Price in relationship to each of the numerical pieces of data in the data set (Number of listings per Host, Minimum Night stays, Days of Availability, and Number of Reviews) to determine if there was a relationship between the two variables. All plots had r-values close to 0 (ranging from -0.029 to 0.018)  indicating a low correlation between price and each of the other numerical variables. "
   ]
  },
  {
   "cell_type": "markdown",
   "metadata": {},
   "source": [
    "### Scatterplots for 2020"
   ]
  },
  {
   "cell_type": "code",
   "execution_count": null,
   "metadata": {},
   "outputs": [],
   "source": [
    "#Compare Price vs. # of Host Listings in all Cities 2020\n",
    "lin_reg_plot(clean_2020_df[\"Number of Listings Per Host\"],clean_2020_df[\"Price\"],\n",
    "\"Number of Listings Per Host\", \"Price\")\n",
    "plt.savefig(\"images/2020scatterplot1.png\")\n",
    "plt.show()"
   ]
  },
  {
   "cell_type": "code",
   "execution_count": null,
   "metadata": {},
   "outputs": [],
   "source": [
    "#Compare Price vs. Minimum Night Stays in all Cities 2020\n",
    "lin_reg_plot(clean_2020_df[\"Minimum Nights\"],clean_2020_df[\"Price\"],\n",
    "\"Minimum Nights\", \"Price\")\n",
    "plt.savefig(\"images/2020scatterplot2.png\")\n",
    "plt.show()"
   ]
  },
  {
   "cell_type": "code",
   "execution_count": null,
   "metadata": {},
   "outputs": [],
   "source": [
    "#Compare Price vs. Availability 2020\n",
    "lin_reg_plot(clean_2020_df[\"Availability\"],clean_2020_df[\"Price\"],\n",
    "\"Availability\", \"Price\")\n",
    "plt.savefig(\"images/2020scatterplot3.png\")\n",
    "plt.show()"
   ]
  },
  {
   "cell_type": "code",
   "execution_count": null,
   "metadata": {},
   "outputs": [],
   "source": [
    "#Compare Price vs. # of Reviews 2020\n",
    "lin_reg_plot(clean_2020_df[\"Number of Reviews\"],clean_2020_df[\"Price\"],\n",
    "\"Number of Reviews\", \"Price\")\n",
    "plt.savefig(\"images/2020scatterplot4.png\")\n",
    "plt.show()"
   ]
  },
  {
   "cell_type": "markdown",
   "metadata": {},
   "source": [
    "#### Scatterplots and Linear Regressions for 2020 Summary\n",
    "We plotted the Price in relationship to each of the numerical pieces of data in the data set (Number of listings per Host, Minimum Night stays, Days of Availability, and Number of Reviews) to determine if there was a relationship between the two variables. All plots had r-values close to 0 (ranging from -0.023to 0.062)  indicating a low correlation between price and each of the other numerical variables. "
   ]
  }
 ],
 "metadata": {
  "kernelspec": {
   "display_name": "dev",
   "language": "python",
   "name": "python3"
  },
  "language_info": {
   "codemirror_mode": {
    "name": "ipython",
    "version": 3
   },
   "file_extension": ".py",
   "mimetype": "text/x-python",
   "name": "python",
   "nbconvert_exporter": "python",
   "pygments_lexer": "ipython3",
   "version": "3.10.11"
  },
  "orig_nbformat": 4
 },
 "nbformat": 4,
 "nbformat_minor": 2
}
