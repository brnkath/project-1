{
 "cells": [
  {
   "cell_type": "code",
   "execution_count": null,
   "metadata": {},
   "outputs": [],
   "source": [
    "# Dependencies\n",
    "import matplotlib.pyplot as plt\n",
    "import pandas as pd\n",
    "import numpy as np\n",
    "import scipy.stats as st\n",
    "from scipy.stats import linregress\n",
    "from pathlib import Path\n",
    "\n",
    "# Turn off warning messages\n",
    "import warnings\n",
    "warnings.filterwarnings(\"ignore\")"
   ]
  },
  {
   "cell_type": "code",
   "execution_count": null,
   "metadata": {},
   "outputs": [],
   "source": [
    "# Import the csv files\n",
    "clean_2020_data = Path(\"output/clean_2020.csv\")\n",
    "clean_2023_data = Path(\"output/clean_2023.csv\")"
   ]
  },
  {
   "cell_type": "code",
   "execution_count": null,
   "metadata": {},
   "outputs": [],
   "source": [
    "# Create dataframes from the imported csv files\n",
    "clean_2020_df = pd.read_csv(clean_2020_data)\n",
    "clean_2023_df = pd.read_csv(clean_2023_data)"
   ]
  },
  {
   "cell_type": "code",
   "execution_count": null,
   "metadata": {},
   "outputs": [],
   "source": [
    "# Display the cleaned 2020 dataframe\n",
    "clean_2020_df.head()"
   ]
  },
  {
   "cell_type": "code",
   "execution_count": null,
   "metadata": {},
   "outputs": [],
   "source": [
    "# Display the cleaned 2023 dataframe\n",
    "clean_2023_df.head()"
   ]
  },
  {
   "cell_type": "markdown",
   "metadata": {},
   "source": [
    "## Create data frames based on city for each year"
   ]
  },
  {
   "cell_type": "code",
   "execution_count": null,
   "metadata": {},
   "outputs": [],
   "source": [
    "#Create a data frame for San Franciso 2020\n",
    "sanfran_2020=clean_2020_df[clean_2020_df[\"City\"]==\"San Francisco\"]\n",
    "\n",
    "#Display sample data\n",
    "sanfran_2020.head()"
   ]
  },
  {
   "cell_type": "code",
   "execution_count": null,
   "metadata": {},
   "outputs": [],
   "source": [
    "#Create a data frame for San Franciso 2023\n",
    "sanfran_2023=clean_2023_df[clean_2023_df[\"City\"]==\"San Francisco\"]\n",
    "\n",
    "#Display sample data\n",
    "sanfran_2023.head()"
   ]
  },
  {
   "cell_type": "code",
   "execution_count": null,
   "metadata": {},
   "outputs": [],
   "source": [
    "#Create a data frame for New York City 2020\n",
    "nyc_2020=clean_2020_df[clean_2020_df[\"City\"]==\"New York City\"]\n",
    "\n",
    "#Display sample data\n",
    "nyc_2020.head()"
   ]
  },
  {
   "cell_type": "code",
   "execution_count": null,
   "metadata": {},
   "outputs": [],
   "source": [
    "#Create a data frame for New York City 2023\n",
    "nyc_2023=clean_2023_df[clean_2023_df[\"City\"]==\"New York City\"]\n",
    "\n",
    "#Display sample data\n",
    "nyc_2023.head()"
   ]
  },
  {
   "cell_type": "code",
   "execution_count": null,
   "metadata": {},
   "outputs": [],
   "source": [
    "#Create a data frame for Twin Cities 2020\n",
    "twincities_2020=clean_2020_df[clean_2020_df[\"City\"]==\"Twin Cities MSA\"]\n",
    "\n",
    "#Display sample data\n",
    "twincities_2020.head()"
   ]
  },
  {
   "cell_type": "code",
   "execution_count": null,
   "metadata": {},
   "outputs": [],
   "source": [
    "#Create a data frame for Twin Cities 2023\n",
    "twincities_2023=clean_2023_df[clean_2023_df[\"City\"]==\"Twin Cities MSA\"]\n",
    "\n",
    "#Display sample data\n",
    "twincities_2023.head()"
   ]
  },
  {
   "cell_type": "markdown",
   "metadata": {},
   "source": [
    "## Calculate the r-values"
   ]
  },
  {
   "cell_type": "code",
   "execution_count": null,
   "metadata": {},
   "outputs": [],
   "source": [
    "# # Define a function to calculate the correlation between variables\n",
    "# def correlation(x_values, y_values):\n",
    "#     correlation=st.pearsonr(x_values,y_values)\n",
    "#     print(f' The correlation between both factors is {round(correlation[0],2)}')"
   ]
  },
  {
   "cell_type": "markdown",
   "metadata": {},
   "source": [
    "## Scatterplots & Linear Regressions"
   ]
  },
  {
   "cell_type": "code",
   "execution_count": null,
   "metadata": {},
   "outputs": [],
   "source": [
    "# Define a function to create Linear Regression plots\n",
    "def lin_reg_plot(x_values, y_values,x_label,y_label):\n",
    "    (slope, intercept, rvalue, pvalue, stderr) = linregress(x_values, y_values)\n",
    "    regress_values = x_values * slope + intercept\n",
    "    line_eq = \"y = \" + str(round(slope, 2)) + \"x + \" + str(round(intercept, 2))\n",
    "    print(f\"The r-value is: {rvalue}\")\n",
    "    plt.scatter(x_values, y_values)\n",
    "    plt.xlabel(x_label)\n",
    "    plt.ylabel(y_label)\n",
    "    plt.plot(x_values, regress_values, \"r-\")\n",
    "    plt.show()"
   ]
  },
  {
   "cell_type": "code",
   "execution_count": null,
   "metadata": {},
   "outputs": [],
   "source": [
    "#Compare Price vs. # of Host Listings in all Cities 2023\n",
    "lin_reg_plot(clean_2023_df[\"Number of Listings Per Host\"],clean_2023_df[\"Price\"],\n",
    "\"Number of Listings Per Host\", \"Price\")"
   ]
  },
  {
   "cell_type": "code",
   "execution_count": null,
   "metadata": {},
   "outputs": [],
   "source": [
    "#Compare Price vs. Minimum Night Stays in all Cities 2023\n",
    "lin_reg_plot(clean_2023_df[\"Minimum Nights\"],clean_2023_df[\"Price\"],\n",
    "\"Minimum Nights\", \"Price\")"
   ]
  },
  {
   "cell_type": "code",
   "execution_count": null,
   "metadata": {},
   "outputs": [],
   "source": [
    "#Compare Price vs. Availability 2023\n",
    "lin_reg_plot(clean_2023_df[\"Availability\"],clean_2023_df[\"Price\"],\n",
    "\"Availability\", \"Price\")"
   ]
  },
  {
   "cell_type": "code",
   "execution_count": null,
   "metadata": {},
   "outputs": [],
   "source": [
    "#Compare Price vs. # of Reviews 2023\n",
    "lin_reg_plot(clean_2023_df[\"Number of Reviews\"],clean_2023_df[\"Price\"],\n",
    "\"Number of Reviews\", \"Price\")"
   ]
  }
 ],
 "metadata": {
  "kernelspec": {
   "display_name": "dev",
   "language": "python",
   "name": "python3"
  },
  "language_info": {
   "codemirror_mode": {
    "name": "ipython",
    "version": 3
   },
   "file_extension": ".py",
   "mimetype": "text/x-python",
   "name": "python",
   "nbconvert_exporter": "python",
   "pygments_lexer": "ipython3",
   "version": "3.10.11"
  },
  "orig_nbformat": 4
 },
 "nbformat": 4,
 "nbformat_minor": 2
}
