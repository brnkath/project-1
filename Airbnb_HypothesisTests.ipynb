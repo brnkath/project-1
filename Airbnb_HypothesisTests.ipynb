{
 "cells": [
  {
   "cell_type": "code",
   "execution_count": null,
   "metadata": {},
   "outputs": [],
   "source": [
    "# Dependencies\n",
    "from pathlib import Path\n",
    "import pandas as pd\n",
    "import scipy.stats as stats\n",
    "\n",
    "# Turn off warning messages\n",
    "import warnings\n",
    "warnings.filterwarnings(\"ignore\")"
   ]
  },
  {
   "cell_type": "code",
   "execution_count": null,
   "metadata": {},
   "outputs": [],
   "source": [
    "# Import the csv files\n",
    "clean_2020_data = Path(\"output/clean_2020.csv\")\n",
    "clean_2023_data = Path(\"output/clean_2023.csv\")"
   ]
  },
  {
   "cell_type": "code",
   "execution_count": null,
   "metadata": {},
   "outputs": [],
   "source": [
    "# Create dataframes from the imported csv files\n",
    "clean_2020_df = pd.read_csv(clean_2020_data)\n",
    "clean_2023_df = pd.read_csv(clean_2023_data)"
   ]
  },
  {
   "cell_type": "code",
   "execution_count": null,
   "metadata": {},
   "outputs": [],
   "source": [
    "# Display the cleaned 2020 dataframe\n",
    "clean_2020_df.head()"
   ]
  },
  {
   "cell_type": "code",
   "execution_count": null,
   "metadata": {},
   "outputs": [],
   "source": [
    "# Display the cleaned 2023 dataframe\n",
    "clean_2023_df.head()"
   ]
  },
  {
   "cell_type": "markdown",
   "metadata": {},
   "source": [
    "## ANOVA : Comparison of Listing Type and Price"
   ]
  },
  {
   "cell_type": "code",
   "execution_count": null,
   "metadata": {},
   "outputs": [],
   "source": [
    "#Extract listing groups for 2020\n",
    "group0=clean_2020_df[clean_2020_df[\"Listing Type\"]==\"Entire home/apt\"][\"Price\"]\n",
    "group1=clean_2020_df[clean_2020_df[\"Listing Type\"]==\"Private room\"][\"Price\"]\n",
    "group2=clean_2020_df[clean_2020_df[\"Listing Type\"]==\"Shared room\"][\"Price\"]\n",
    "group3=clean_2020_df[clean_2020_df[\"Listing Type\"]==\"Hotel room\"][\"Price\"]"
   ]
  },
  {
   "cell_type": "code",
   "execution_count": null,
   "metadata": {},
   "outputs": [],
   "source": [
    "#Perform the ANOVA for listing groups 2020\n",
    "stats.f_oneway(group0,group1,group2,group3)"
   ]
  },
  {
   "cell_type": "markdown",
   "metadata": {},
   "source": [
    "A one-way analysis of variance compare the average price based on Listing Type (Entire home/apt, Private room, Shared room and Hotel Room) in 2020.  This test was found to be statistically significant with a pvalue < .01 (pvalue=2.462762327029353e-307)."
   ]
  },
  {
   "cell_type": "code",
   "execution_count": null,
   "metadata": {},
   "outputs": [],
   "source": [
    "#Extract listing groups for 2023\n",
    "group0=clean_2023_df[clean_2023_df[\"Listing Type\"]==\"Entire home/apt\"][\"Price\"]\n",
    "group1=clean_2023_df[clean_2023_df[\"Listing Type\"]==\"Private room\"][\"Price\"]\n",
    "group2=clean_2023_df[clean_2023_df[\"Listing Type\"]==\"Shared room\"][\"Price\"]\n",
    "group3=clean_2023_df[clean_2023_df[\"Listing Type\"]==\"Hotel room\"][\"Price\"]"
   ]
  },
  {
   "cell_type": "code",
   "execution_count": null,
   "metadata": {},
   "outputs": [],
   "source": [
    "#Perform the ANOVA for listing groups 2023\n",
    "stats.f_oneway(group0,group1,group2,group3)"
   ]
  },
  {
   "cell_type": "markdown",
   "metadata": {},
   "source": [
    "A one-way analysis of variance compare the average price based on Listing Type (Entire home/apt, Private room, Shared room and Hotel Room) in 2020.  This test was found to be statistically significant with a pvalue < .01 (pvalue=1.0085994805210438e-13)."
   ]
  },
  {
   "cell_type": "markdown",
   "metadata": {},
   "source": [
    "## ANOVA : Comparison of City and Price"
   ]
  },
  {
   "cell_type": "code",
   "execution_count": null,
   "metadata": {},
   "outputs": [],
   "source": [
    "#Extract city groups for 2020\n",
    "group0=clean_2020_df[clean_2020_df[\"City\"]==\"New York City\"][\"Price\"]\n",
    "group1=clean_2020_df[clean_2020_df[\"City\"]==\"San Francisco\"][\"Price\"]\n",
    "group2=clean_2020_df[clean_2020_df[\"City\"]==\"Twin Cities MSA\"][\"Price\"]\n"
   ]
  },
  {
   "cell_type": "code",
   "execution_count": null,
   "metadata": {},
   "outputs": [],
   "source": [
    "#Perform the ANOVA for city groups in 2020\n",
    "stats.f_oneway(group0,group1,group2)"
   ]
  },
  {
   "cell_type": "markdown",
   "metadata": {},
   "source": [
    "A one-way analysis of variance compare the average price based on City (New York City, San Francisco, Twin Cities MSA) in 2020.  This test was found to be statistically significant with a pvalue < .01 (pvalue=7.23143585886283e-239)."
   ]
  },
  {
   "cell_type": "code",
   "execution_count": null,
   "metadata": {},
   "outputs": [],
   "source": [
    "#Extract city groups for 2023\n",
    "group0=clean_2023_df[clean_2023_df[\"City\"]==\"New York City\"][\"Price\"]\n",
    "group1=clean_2023_df[clean_2023_df[\"City\"]==\"San Francisco\"][\"Price\"]\n",
    "group2=clean_2023_df[clean_2023_df[\"City\"]==\"Twin Cities MSA\"][\"Price\"]"
   ]
  },
  {
   "cell_type": "code",
   "execution_count": null,
   "metadata": {},
   "outputs": [],
   "source": [
    "#Perform the ANOVA for city groups in 2023\n",
    "stats.f_oneway(group0,group1,group2)"
   ]
  },
  {
   "cell_type": "markdown",
   "metadata": {},
   "source": [
    "A one-way analysis of variance compare the average price based on City (New York City, San Francisco, Twin Cities MSA) in 2023.  This test was found to be statistically significant with a pvalue < .01 (pvalue=2.6245319279663165e-14)."
   ]
  }
 ],
 "metadata": {
  "kernelspec": {
   "display_name": "dev",
   "language": "python",
   "name": "python3"
  },
  "language_info": {
   "codemirror_mode": {
    "name": "ipython",
    "version": 3
   },
   "file_extension": ".py",
   "mimetype": "text/x-python",
   "name": "python",
   "nbconvert_exporter": "python",
   "pygments_lexer": "ipython3",
   "version": "3.10.11"
  },
  "orig_nbformat": 4
 },
 "nbformat": 4,
 "nbformat_minor": 2
}
