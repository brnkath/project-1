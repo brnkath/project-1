{
 "cells": [
  {
   "cell_type": "code",
   "execution_count": null,
   "metadata": {},
   "outputs": [],
   "source": [
    "# Dependencies\n",
    "import pandas as pd\n",
    "import hvplot.pandas\n",
    "from pathlib import Path\n",
    "\n",
    "# Turn off warning messages\n",
    "import warnings\n",
    "warnings.filterwarnings(\"ignore\")"
   ]
  },
  {
   "cell_type": "code",
   "execution_count": null,
   "metadata": {},
   "outputs": [],
   "source": [
    "# Import the csv files\n",
    "clean_2020_data = Path(\"output/clean_2020.csv\")\n",
    "clean_2023_data = Path(\"output/clean_2023.csv\")"
   ]
  },
  {
   "cell_type": "code",
   "execution_count": null,
   "metadata": {},
   "outputs": [],
   "source": [
    "# Create dataframes from the imported csv files\n",
    "clean_2020_df = pd.read_csv(clean_2020_data)\n",
    "clean_2023_df = pd.read_csv(clean_2023_data)"
   ]
  },
  {
   "cell_type": "code",
   "execution_count": null,
   "metadata": {},
   "outputs": [],
   "source": [
    "# Display the cleaned 2020 dataframe\n",
    "clean_2020_df.head()"
   ]
  },
  {
   "cell_type": "code",
   "execution_count": null,
   "metadata": {},
   "outputs": [],
   "source": [
    "# Display the cleaned 2023 dataframe\n",
    "clean_2023_df.head()"
   ]
  },
  {
   "cell_type": "code",
   "execution_count": null,
   "metadata": {},
   "outputs": [],
   "source": [
    "\n",
    "clean_2020_df = clean_2020_df.groupby([\"Host ID\"])\n",
    "clean_2020_df.head()"
   ]
  },
  {
   "cell_type": "markdown",
   "metadata": {},
   "source": [
    "## Creating and exporting plots"
   ]
  },
  {
   "cell_type": "code",
   "execution_count": null,
   "metadata": {},
   "outputs": [],
   "source": [
    "# Creating \n",
    "\n",
    "plt.savefig(\"images/fig1.png\")"
   ]
  },
  {
   "cell_type": "markdown",
   "metadata": {},
   "source": [
    "## Creating and exporting hvplots"
   ]
  },
  {
   "cell_type": "code",
   "execution_count": null,
   "metadata": {},
   "outputs": [],
   "source": [
    "# Creating 2020 hvplot\n",
    "%%capture --no-display\n",
    "\n",
    "# Configure the map plot\n",
    "rental_map_2020 = clean_2020_data.hvplot.points(\n",
    "\"Lng\", \n",
    "\"Lat\", \n",
    "geo = True, \n",
    "tiles = \"OSM\",\n",
    "frame_width = 700,\n",
    "frame_height = 500,\n",
    "size = \"Price\", \n",
    "scale = 1, \n",
    "color = \"Room Type\")\n",
    "\n",
    "# Display the map\n",
    "rental_map_2020"
   ]
  },
  {
   "cell_type": "code",
   "execution_count": null,
   "metadata": {},
   "outputs": [],
   "source": [
    "# Creating 2023 hvplot\n",
    "%%capture --no-display\n",
    "\n",
    "# Configure the map plot\n",
    "rental_map_2023 = clean_2023_data.hvplot.points(\n",
    "\"Lng\", \n",
    "\"Lat\", \n",
    "geo = True, \n",
    "tiles = \"OSM\",\n",
    "frame_width = 700,\n",
    "frame_height = 500,\n",
    "size = \"Price\", \n",
    "scale = 1, \n",
    "color = \"Room Type\")\n",
    "\n",
    "# Display the map\n",
    "rental_map_2023"
   ]
  }
 ],
 "metadata": {
  "kernelspec": {
   "display_name": "dev",
   "language": "python",
   "name": "python3"
  },
  "language_info": {
   "codemirror_mode": {
    "name": "ipython",
    "version": 3
   },
   "file_extension": ".py",
   "mimetype": "text/x-python",
   "name": "python",
   "nbconvert_exporter": "python",
   "pygments_lexer": "ipython3",
   "version": "3.10.12"
  },
  "orig_nbformat": 4
 },
 "nbformat": 4,
 "nbformat_minor": 2
}
