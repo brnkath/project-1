{
 "cells": [
  {
   "cell_type": "code",
   "execution_count": null,
   "metadata": {},
   "outputs": [],
   "source": [
    "# Dependencies\n",
    "import pandas as pd\n",
    "import hvplot.pandas\n",
    "from pathlib import Path\n",
    "\n",
    "# Turn off warning messages\n",
    "import warnings\n",
    "warnings.filterwarnings(\"ignore\")"
   ]
  },
  {
   "cell_type": "code",
   "execution_count": null,
   "metadata": {},
   "outputs": [],
   "source": [
    "# Import the csv files\n",
    "clean_2020_data = Path(\"output/clean_2020.csv\")\n",
    "clean_2023_data = Path(\"output/clean_2023.csv\")"
   ]
  },
  {
   "cell_type": "code",
   "execution_count": null,
   "metadata": {},
   "outputs": [],
   "source": [
    "# Create dataframes from the imported csv files\n",
    "clean_2020_df = pd.read_csv(clean_2020_data)\n",
    "clean_2023_df = pd.read_csv(clean_2023_data)"
   ]
  },
  {
   "cell_type": "code",
   "execution_count": null,
   "metadata": {},
   "outputs": [],
   "source": [
    "# Display the cleaned 2020 dataframe\n",
    "clean_2020_df.head()"
   ]
  },
  {
   "cell_type": "code",
   "execution_count": null,
   "metadata": {},
   "outputs": [],
   "source": [
    "# Display the cleaned 2023 dataframe\n",
    "clean_2023_df.head()"
   ]
  },
  {
   "cell_type": "code",
   "execution_count": null,
   "metadata": {},
   "outputs": [],
   "source": [
    "# Narrow the data to individual cities for each year\n",
    "san_francisco_2020 = clean_2020_df.loc[(clean_2020_df[\"City\"] == \"San Francisco\")]\n",
    "new_york_2020 = clean_2020_df.loc[(clean_2020_df[\"City\"] == \"New York City\")]\n",
    "twin_cities_2020 = clean_2020_df.loc[(clean_2020_df[\"City\"] == \"Twin Cities MSA\")]\n",
    "san_francisco_2023 = clean_2023_df.loc[(clean_2023_df[\"City\"] == \"San Francisco\")]\n",
    "new_york_2023 = clean_2023_df.loc[(clean_2023_df[\"City\"] == \"New York City\")]\n",
    "twin_cities_2023 = clean_2023_df.loc[(clean_2023_df[\"City\"] == \"Twin Cities MSA\")]"
   ]
  },
  {
   "cell_type": "code",
   "execution_count": null,
   "metadata": {},
   "outputs": [],
   "source": [
    "# Narrow the data to a random sample of each\n",
    "san_francisco_2020_sample = san_francisco_2020.sample(n=100)\n",
    "new_york_2020_sample = new_york_2020.sample(n=100)\n",
    "twin_cities_2020_sample = twin_cities_2020.sample(n=100)\n",
    "san_francisco_2023_sample = san_francisco_2023.sample(n=100)\n",
    "new_york_2023_sample = new_york_2023.sample(n=100)\n",
    "twin_cities_2023_sample = twin_cities_2023.sample(n=100)"
   ]
  },
  {
   "cell_type": "markdown",
   "metadata": {},
   "source": [
    "## Creating and exporting plots"
   ]
  },
  {
   "cell_type": "code",
   "execution_count": null,
   "metadata": {},
   "outputs": [],
   "source": [
    "# Creating \n",
    "\n",
    "# plt.savefig(\"images/fig1.png\")"
   ]
  },
  {
   "cell_type": "markdown",
   "metadata": {},
   "source": [
    "## Creating and exporting hvplots"
   ]
  },
  {
   "cell_type": "code",
   "execution_count": null,
   "metadata": {},
   "outputs": [],
   "source": [
    "# Creating a 2020 hvplot for San Francisco\n",
    "# Configure the map plot\n",
    "san_francisco_2020_map = san_francisco_2020_sample.hvplot.points(\n",
    "x = \"Longitude\", \n",
    "y = \"Latitude\", \n",
    "geo = True, \n",
    "tiles = \"OSM\",\n",
    "frame_width = 700,\n",
    "frame_height = 500,\n",
    "size = \"Price\", \n",
    "scale = 1, \n",
    "color = \"Listing Type\",\n",
    "hover_cols = [\"Number of Listings Per Host\", \"Minimum Nights\", \"Availability\", \"Number of Reviews\"])\n",
    "\n",
    "# Display the map\n",
    "san_francisco_2020_map"
   ]
  },
  {
   "cell_type": "code",
   "execution_count": null,
   "metadata": {},
   "outputs": [],
   "source": [
    "# Creating a 2020 hvplot for New York City\n",
    "# Configure the map plot\n",
    "new_york_2020_map = new_york_2020_sample.hvplot.points(\n",
    "x = \"Longitude\", \n",
    "y = \"Latitude\", \n",
    "geo = True, \n",
    "tiles = \"OSM\",\n",
    "frame_width = 700,\n",
    "frame_height = 500,\n",
    "size = \"Price\", \n",
    "scale = 1, \n",
    "color = \"Listing Type\",\n",
    "hover_cols = [\"Number of Listings Per Host\", \"Minimum Nights\", \"Availability\", \"Number of Reviews\"])\n",
    "\n",
    "# Display the map\n",
    "new_york_2020_map"
   ]
  },
  {
   "cell_type": "code",
   "execution_count": null,
   "metadata": {},
   "outputs": [],
   "source": [
    "# Creating a 2020 hvplot for Twin Cities\n",
    "# Configure the map plot\n",
    "twin_cities_2020_map = twin_cities_2020_sample.hvplot.points(\n",
    "x = \"Longitude\", \n",
    "y = \"Latitude\", \n",
    "geo = True, \n",
    "tiles = \"OSM\",\n",
    "frame_width = 700,\n",
    "frame_height = 500,\n",
    "size = \"Price\", \n",
    "scale = 1, \n",
    "color = \"Listing Type\",\n",
    "hover_cols = [\"Number of Listings Per Host\", \"Minimum Nights\", \"Availability\", \"Number of Reviews\"])\n",
    "\n",
    "# Display the map\n",
    "twin_cities_2020_map"
   ]
  },
  {
   "cell_type": "code",
   "execution_count": null,
   "metadata": {},
   "outputs": [],
   "source": [
    "# Creating a 2023 hvplot for San Francisco\n",
    "# Configure the map plot\n",
    "san_francisco_2023_map = san_francisco_2023_sample.hvplot.points(\n",
    "x = \"Longitude\", \n",
    "y = \"Latitude\", \n",
    "geo = True, \n",
    "tiles = \"OSM\",\n",
    "frame_width = 700,\n",
    "frame_height = 500,\n",
    "size = \"Price\", \n",
    "scale = 1, \n",
    "color = \"Listing Type\",\n",
    "hover_cols = [\"Number of Listings Per Host\", \"Minimum Nights\", \"Availability\", \"Number of Reviews\"])\n",
    "\n",
    "# Display the map\n",
    "san_francisco_2023_map"
   ]
  },
  {
   "cell_type": "code",
   "execution_count": null,
   "metadata": {},
   "outputs": [],
   "source": [
    "# Creating a 2023 hvplot for New York City\n",
    "# Configure the map plot\n",
    "new_york_2023_map = new_york_2023_sample.hvplot.points(\n",
    "x = \"Longitude\", \n",
    "y = \"Latitude\", \n",
    "geo = True, \n",
    "tiles = \"OSM\",\n",
    "frame_width = 700,\n",
    "frame_height = 500,\n",
    "size = \"Price\", \n",
    "scale = 1, \n",
    "color = \"Listing Type\",\n",
    "hover_cols = [\"Number of Listings Per Host\", \"Minimum Nights\", \"Availability\", \"Number of Reviews\"])\n",
    "\n",
    "# Display the map\n",
    "new_york_2023_map"
   ]
  },
  {
   "cell_type": "code",
   "execution_count": null,
   "metadata": {},
   "outputs": [],
   "source": [
    "# Creating a 2023 hvplot for Twin Cities\n",
    "# Configure the map plot\n",
    "twin_cities_2023_map = twin_cities_2023_sample.hvplot.points(\n",
    "x = \"Longitude\", \n",
    "y = \"Latitude\", \n",
    "geo = True, \n",
    "tiles = \"OSM\",\n",
    "frame_width = 700,\n",
    "frame_height = 500,\n",
    "size = \"Price\", \n",
    "scale = 1, \n",
    "color = \"Listing Type\",\n",
    "hover_cols = [\"Number of Listings Per Host\", \"Minimum Nights\", \"Availability\", \"Number of Reviews\"])\n",
    "\n",
    "# Display the map\n",
    "twin_cities_2023_map"
   ]
  },
  {
   "cell_type": "code",
   "execution_count": null,
   "metadata": {},
   "outputs": [],
   "source": []
  }
 ],
 "metadata": {
  "kernelspec": {
   "display_name": "dev",
   "language": "python",
   "name": "python3"
  },
  "language_info": {
   "codemirror_mode": {
    "name": "ipython",
    "version": 3
   },
   "file_extension": ".py",
   "mimetype": "text/x-python",
   "name": "python",
   "nbconvert_exporter": "python",
   "pygments_lexer": "ipython3",
   "version": "3.10.12"
  },
  "orig_nbformat": 4
 },
 "nbformat": 4,
 "nbformat_minor": 2
}
