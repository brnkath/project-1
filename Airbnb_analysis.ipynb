{
 "cells": [
  {
   "cell_type": "code",
   "execution_count": null,
   "metadata": {},
   "outputs": [],
   "source": [
    "# Dependencies\n",
    "import pandas as pd\n",
    "import hvplot.pandas\n",
    "from pathlib import Path\n",
    "\n",
    "# Turn off warning messages\n",
    "import warnings\n",
    "warnings.filterwarnings(\"ignore\")"
   ]
  },
  {
   "cell_type": "code",
   "execution_count": null,
   "metadata": {},
   "outputs": [],
   "source": [
    "# Importing csv files\n",
    "clean_2020_data = Path(\"output/clean_2020.csv\")\n",
    "clean_2023_data = Path(\"output/clean_2023.csv\")"
   ]
  },
  {
   "cell_type": "markdown",
   "metadata": {},
   "source": [
    "## Creating and exporting plots"
   ]
  },
  {
   "cell_type": "code",
   "execution_count": null,
   "metadata": {},
   "outputs": [],
   "source": [
    "# Creating "
   ]
  },
  {
   "cell_type": "markdown",
   "metadata": {},
   "source": [
    "## Creating and exporting hvplots"
   ]
  },
  {
   "cell_type": "code",
   "execution_count": null,
   "metadata": {},
   "outputs": [],
   "source": [
    "# Creating 2020 hvplot\n",
    "%%capture --no-display\n",
    "\n",
    "# Configure the map plot\n",
    "rental_map_2020 = clean_2020_data.hvplot.points(\n",
    "\"Lng\", \n",
    "\"Lat\", \n",
    "geo = True, \n",
    "tiles = \"OSM\",\n",
    "frame_width = 700,\n",
    "frame_height = 500,\n",
    "size = \"Price\", \n",
    "scale = 1, \n",
    "color = \"Room Type\")\n",
    "\n",
    "# Display the map\n",
    "rental_map_2020"
   ]
  },
  {
   "cell_type": "code",
   "execution_count": null,
   "metadata": {},
   "outputs": [],
   "source": [
    "# Creating 2023 hvplot\n",
    "%%capture --no-display\n",
    "\n",
    "# Configure the map plot\n",
    "rental_map_2023 = clean_2023_data.hvplot.points(\n",
    "\"Lng\", \n",
    "\"Lat\", \n",
    "geo = True, \n",
    "tiles = \"OSM\",\n",
    "frame_width = 700,\n",
    "frame_height = 500,\n",
    "size = \"Price\", \n",
    "scale = 1, \n",
    "color = \"Room Type\")\n",
    "\n",
    "# Display the map\n",
    "rental_map_2023"
   ]
  }
 ],
 "metadata": {
  "language_info": {
   "name": "python"
  },
  "orig_nbformat": 4
 },
 "nbformat": 4,
 "nbformat_minor": 2
}
