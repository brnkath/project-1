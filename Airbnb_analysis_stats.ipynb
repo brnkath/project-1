{
 "cells": [
  {
   "cell_type": "code",
   "execution_count": 1,
   "metadata": {},
   "outputs": [],
   "source": [
    "# Dependencies\n",
    "import pandas as pd\n",
    "from pathlib import Path\n",
    "import matplotlib.pyplot as plt\n",
    "import scipy.stats as st\n",
    "import numpy as np\n",
    "\n",
    "\n",
    "# Turn off warning messages\n",
    "import warnings\n",
    "warnings.filterwarnings(\"ignore\")"
   ]
  },
  {
   "cell_type": "code",
   "execution_count": 2,
   "metadata": {},
   "outputs": [],
   "source": [
    "# Import the csv files\n",
    "clean_2020_data = Path(\"output/clean_2020.csv\")\n",
    "clean_2023_data = Path(\"output/clean_2023.csv\")"
   ]
  },
  {
   "cell_type": "code",
   "execution_count": 3,
   "metadata": {},
   "outputs": [],
   "source": [
    "# Create dataframes from the imported csv files\n",
    "clean_2020_df = pd.read_csv(clean_2020_data)\n",
    "clean_2023_df = pd.read_csv(clean_2023_data)"
   ]
  },
  {
   "cell_type": "code",
   "execution_count": null,
   "metadata": {},
   "outputs": [],
   "source": [
    "# Display the cleaned 2020 dataframe\n",
    "clean_2020_df.head()"
   ]
  },
  {
   "cell_type": "code",
   "execution_count": null,
   "metadata": {},
   "outputs": [],
   "source": [
    "# Display the cleaned 2023 dataframe\n",
    "clean_2023_df.head()"
   ]
  },
  {
   "cell_type": "code",
   "execution_count": 4,
   "metadata": {},
   "outputs": [],
   "source": [
    "# Narrow the data to individual cities for each year\n",
    "san_francisco_2020 = clean_2020_df.loc[(clean_2020_df[\"City\"] == \"San Francisco\")]\n",
    "new_york_2020 = clean_2020_df.loc[(clean_2020_df[\"City\"] == \"New York City\")]\n",
    "twin_cities_2020 = clean_2020_df.loc[(clean_2020_df[\"City\"] == \"Twin Cities MSA\")]\n",
    "san_francisco_2023 = clean_2023_df.loc[(clean_2023_df[\"City\"] == \"San Francisco\")]\n",
    "new_york_2023 = clean_2023_df.loc[(clean_2023_df[\"City\"] == \"New York City\")]\n",
    "twin_cities_2023 = clean_2023_df.loc[(clean_2023_df[\"City\"] == \"Twin Cities MSA\")]"
   ]
  },
  {
   "cell_type": "code",
   "execution_count": 21,
   "metadata": {},
   "outputs": [],
   "source": [
    "# Calculate mean, median, and mode for each DataFrame\n",
    "san_francisco_2020_mean = round(san_francisco_2020[\"Price\"].mean(), 2)\n",
    "san_francisco_2020_median = round(san_francisco_2020[\"Price\"].median(), 2)\n",
    "san_francisco_2020_mode = san_francisco_2020[\"Price\"].mode()\n",
    "san_francisco_2023_mean = round(san_francisco_2023[\"Price\"].mean(), 2)\n",
    "san_francisco_2023_median = round(san_francisco_2023[\"Price\"].median(), 2)\n",
    "san_francisco_2023_mode = san_francisco_2023[\"Price\"].mode()\n",
    "\n",
    "new_york_2020_mean = round(new_york_2020[\"Price\"].mean(), 2)\n",
    "new_york_2020_median = round(new_york_2020[\"Price\"].median(), 2)\n",
    "new_york_2020_mode = new_york_2020[\"Price\"].mode()\n",
    "new_york_2023_mean = round(new_york_2023[\"Price\"].mean(), 2)\n",
    "new_york_2023_median = round(new_york_2023[\"Price\"].median(), 2)\n",
    "new_york_2023_mode = new_york_2023[\"Price\"].mode()\n",
    "\n",
    "twin_cities_2020_mean = round(twin_cities_2020[\"Price\"].mean(), 2)\n",
    "twin_cities_2020_median = round(twin_cities_2020[\"Price\"].median(), 2)\n",
    "twin_cities_2020_mode = twin_cities_2020[\"Price\"].mode()\n",
    "twin_cities_2023_mean = round(twin_cities_2023[\"Price\"].mean(), 2)\n",
    "twin_cities_2023_median = round(twin_cities_2023[\"Price\"].median(), 2)\n",
    "twin_cities_2023_mode = twin_cities_2023[\"Price\"].mode()\n"
   ]
  },
  {
   "cell_type": "code",
   "execution_count": 22,
   "metadata": {},
   "outputs": [
    {
     "data": {
      "text/html": [
       "<div>\n",
       "<style scoped>\n",
       "    .dataframe tbody tr th:only-of-type {\n",
       "        vertical-align: middle;\n",
       "    }\n",
       "\n",
       "    .dataframe tbody tr th {\n",
       "        vertical-align: top;\n",
       "    }\n",
       "\n",
       "    .dataframe thead th {\n",
       "        text-align: right;\n",
       "    }\n",
       "</style>\n",
       "<table border=\"1\" class=\"dataframe\">\n",
       "  <thead>\n",
       "    <tr style=\"text-align: right;\">\n",
       "      <th></th>\n",
       "      <th>City/Year</th>\n",
       "      <th>Mean</th>\n",
       "      <th>Median</th>\n",
       "      <th>Mode</th>\n",
       "    </tr>\n",
       "  </thead>\n",
       "  <tbody>\n",
       "    <tr>\n",
       "      <th>0</th>\n",
       "      <td>San Francisco 2020</td>\n",
       "      <td>202.77</td>\n",
       "      <td>138.0</td>\n",
       "      <td>150</td>\n",
       "    </tr>\n",
       "    <tr>\n",
       "      <th>1</th>\n",
       "      <td>San Francisco 2023</td>\n",
       "      <td>324.52</td>\n",
       "      <td>150.0</td>\n",
       "      <td>120</td>\n",
       "    </tr>\n",
       "    <tr>\n",
       "      <th>2</th>\n",
       "      <td>New York City 2020</td>\n",
       "      <td>157.28</td>\n",
       "      <td>100.0</td>\n",
       "      <td>150</td>\n",
       "    </tr>\n",
       "    <tr>\n",
       "      <th>3</th>\n",
       "      <td>New York City 2023</td>\n",
       "      <td>218.03</td>\n",
       "      <td>134.0</td>\n",
       "      <td>150</td>\n",
       "    </tr>\n",
       "    <tr>\n",
       "      <th>4</th>\n",
       "      <td>Twin Cities 2020</td>\n",
       "      <td>364.55</td>\n",
       "      <td>120.0</td>\n",
       "      <td>75</td>\n",
       "    </tr>\n",
       "    <tr>\n",
       "      <th>5</th>\n",
       "      <td>Twin Cities 2023</td>\n",
       "      <td>181.99</td>\n",
       "      <td>120.0</td>\n",
       "      <td>100</td>\n",
       "    </tr>\n",
       "  </tbody>\n",
       "</table>\n",
       "</div>"
      ],
      "text/plain": [
       "            City/Year    Mean  Median  Mode\n",
       "0  San Francisco 2020  202.77   138.0   150\n",
       "1  San Francisco 2023  324.52   150.0   120\n",
       "2  New York City 2020  157.28   100.0   150\n",
       "3  New York City 2023  218.03   134.0   150\n",
       "4    Twin Cities 2020  364.55   120.0    75\n",
       "5    Twin Cities 2023  181.99   120.0   100"
      ]
     },
     "execution_count": 22,
     "metadata": {},
     "output_type": "execute_result"
    }
   ],
   "source": [
    "# Create a new DataFrame with the mean, median, mode information\n",
    "summary_data = {\n",
    "    'City/Year': ['San Francisco 2020', 'San Francisco 2023', 'New York City 2020', 'New York City 2023',\n",
    "                  'Twin Cities 2020', 'Twin Cities 2023'],\n",
    "    'Mean': [\n",
    "        san_francisco_2020_mean, san_francisco_2023_mean,\n",
    "        new_york_2020_mean, new_york_2023_mean,\n",
    "        twin_cities_2020_mean, twin_cities_2023_mean\n",
    "    ],\n",
    "    'Median': [\n",
    "        san_francisco_2020_median, san_francisco_2023_median,\n",
    "        new_york_2020_median, new_york_2023_median,\n",
    "        twin_cities_2020_median, twin_cities_2023_median\n",
    "    ],\n",
    "    'Mode': [\n",
    "        san_francisco_2020[\"Price\"].mode().iloc[0], san_francisco_2023[\"Price\"].mode().iloc[0],\n",
    "        new_york_2020[\"Price\"].mode().iloc[0], new_york_2023[\"Price\"].mode().iloc[0],\n",
    "        twin_cities_2020[\"Price\"].mode().iloc[0], twin_cities_2023[\"Price\"].mode().iloc[0]\n",
    "    ]\n",
    "}\n",
    "\n",
    "# Create a DataFrame\n",
    "summary_data_df = pd.DataFrame(summary_data)\n",
    "\n",
    "# Print the resulting DataFrame\n",
    "summary_data_df"
   ]
  },
  {
   "cell_type": "code",
   "execution_count": 23,
   "metadata": {},
   "outputs": [],
   "source": [
    "# Export summary data to csv\n",
    "summary_data_df.to_csv(\"output/summary_data.csv\")"
   ]
  },
  {
   "cell_type": "code",
   "execution_count": 37,
   "metadata": {},
   "outputs": [
    {
     "data": {
      "image/png": "[encoded data removed]",
      "text/plain": [
       "<Figure size 640x480 with 1 Axes>"
      ]
     },
     "metadata": {},
     "output_type": "display_data"
    }
   ],
   "source": [
    "# Create a boxplot for summary data\n",
    "plot_data = [san_francisco_2020[\"Price\"], san_francisco_2023[\"Price\"], new_york_2020[\"Price\"], new_york_2023[\"Price\"], twin_cities_2020[\"Price\"], twin_cities_2023[\"Price\"]]\n",
    "\n",
    "fig, ax1 = plt.subplots()\n",
    "ax1.set_title('AirBnB prices')\n",
    "ax1.set_ylabel('Price $')\n",
    "ax1.boxplot(plot_data)\n",
    "# plt.ylim(0, 2000)\n",
    "plt.xticks([1, 2, 3, 4, 5, 6], [\"San Francisco 2020\", \"San Francisco 2023\", \"New York City 2020\", \"New York City 2023\", \"Twin Cities 2020\", \"Twin Cities 2023\"], rotation=40)\n",
    "\n",
    "plt.show()"
   ]
  },
  {
   "cell_type": "code",
   "execution_count": null,
   "metadata": {},
   "outputs": [],
   "source": []
  }
 ],
 "metadata": {
  "kernelspec": {
   "display_name": "dev",
   "language": "python",
   "name": "python3"
  },
  "language_info": {
   "codemirror_mode": {
    "name": "ipython",
    "version": 3
   },
   "file_extension": ".py",
   "mimetype": "text/x-python",
   "name": "python",
   "nbconvert_exporter": "python",
   "pygments_lexer": "ipython3",
   "version": "3.10.12"
  },
  "orig_nbformat": 4
 },
 "nbformat": 4,
 "nbformat_minor": 2
}
