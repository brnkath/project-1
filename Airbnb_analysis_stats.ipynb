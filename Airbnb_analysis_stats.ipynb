{
 "cells": [
  {
   "cell_type": "code",
   "execution_count": null,
   "metadata": {},
   "outputs": [],
   "source": [
    "# Dependencies\n",
    "import pandas as pd\n",
    "from pathlib import Path\n",
    "import matplotlib.pyplot as plt\n",
    "import scipy.stats as st\n",
    "import numpy as np\n",
    "\n",
    "\n",
    "# Turn off warning messages\n",
    "import warnings\n",
    "warnings.filterwarnings(\"ignore\")"
   ]
  },
  {
   "cell_type": "code",
   "execution_count": null,
   "metadata": {},
   "outputs": [],
   "source": [
    "# Import the csv files\n",
    "clean_2020_data = Path(\"output/clean_2020.csv\")\n",
    "clean_2023_data = Path(\"output/clean_2023.csv\")"
   ]
  },
  {
   "cell_type": "code",
   "execution_count": null,
   "metadata": {},
   "outputs": [],
   "source": [
    "# Create dataframes from the imported csv files\n",
    "clean_2020_df = pd.read_csv(clean_2020_data)\n",
    "clean_2023_df = pd.read_csv(clean_2023_data)"
   ]
  },
  {
   "cell_type": "code",
   "execution_count": null,
   "metadata": {},
   "outputs": [],
   "source": [
    "# Display the cleaned 2020 dataframe\n",
    "clean_2020_df.head()"
   ]
  },
  {
   "cell_type": "code",
   "execution_count": null,
   "metadata": {},
   "outputs": [],
   "source": [
    "# Display the cleaned 2023 dataframe\n",
    "clean_2023_df.head()"
   ]
  },
  {
   "cell_type": "code",
   "execution_count": null,
   "metadata": {},
   "outputs": [],
   "source": [
    "# Narrow the data to individual cities for each year\n",
    "san_francisco_2020 = clean_2020_df.loc[(clean_2020_df[\"City\"] == \"San Francisco\")]\n",
    "new_york_2020 = clean_2020_df.loc[(clean_2020_df[\"City\"] == \"New York City\")]\n",
    "twin_cities_2020 = clean_2020_df.loc[(clean_2020_df[\"City\"] == \"Twin Cities MSA\")]\n",
    "san_francisco_2023 = clean_2023_df.loc[(clean_2023_df[\"City\"] == \"San Francisco\")]\n",
    "new_york_2023 = clean_2023_df.loc[(clean_2023_df[\"City\"] == \"New York City\")]\n",
    "twin_cities_2023 = clean_2023_df.loc[(clean_2023_df[\"City\"] == \"Twin Cities MSA\")]"
   ]
  },
  {
   "cell_type": "code",
   "execution_count": null,
   "metadata": {},
   "outputs": [],
   "source": [
    "# Calculate mean, median, and mode for each DataFrame\n",
    "san_francisco_2020_mean = san_francisco_2020[\"Price\"].mean()\n",
    "san_francisco_2020_median = san_francisco_2020[\"Price\"].median()\n",
    "san_francisco_2020_mode = san_francisco_2020[\"Price\"].mode()\n",
    "san_francisco_2023_mean = san_francisco_2023[\"Price\"].mean()\n",
    "san_francisco_2023_median = san_francisco_2023[\"Price\"].median()\n",
    "san_francisco_2023_mode = san_francisco_2023[\"Price\"].mode()\n",
    "\n",
    "new_york_2020_mean = new_york_2020[\"Price\"].mean()\n",
    "new_york_2020_median = new_york_2020[\"Price\"].median()\n",
    "new_york_2020_mode = new_york_2020[\"Price\"].mode()\n",
    "new_york_2023_mean = new_york_2023[\"Price\"].mean()\n",
    "new_york_2023_median = new_york_2023[\"Price\"].median()\n",
    "new_york_2023_mode = new_york_2023[\"Price\"].mode()\n",
    "\n",
    "twin_cities_2020_mean = twin_cities_2020[\"Price\"].mean()\n",
    "twin_cities_2020_median = twin_cities_2020[\"Price\"].median()\n",
    "twin_cities_2020_mode = twin_cities_2020[\"Price\"].mode()\n",
    "twin_cities_2023_mean = twin_cities_2023[\"Price\"].mean()\n",
    "twin_cities_2023_median = twin_cities_2023[\"Price\"].median()\n",
    "twin_cities_2023_mode = twin_cities_2023[\"Price\"].mode()\n"
   ]
  },
  {
   "cell_type": "code",
   "execution_count": null,
   "metadata": {},
   "outputs": [],
   "source": [
    "# Create a new DataFrame with the mean, median, mode information\n",
    "summary_data = {\n",
    "    'City/Year': ['San Francisco 2020', 'San Francisco 2023', 'New York City 2020', 'New York City 2023',\n",
    "                  'Twin Cities 2020', 'Twin Cities 2023'],\n",
    "    'Mean': [\n",
    "        san_francisco_2020_mean, san_francisco_2023_mean,\n",
    "        new_york_2020_mean, new_york_2023_mean,\n",
    "        twin_cities_2020_mean, twin_cities_2023_mean\n",
    "    ],\n",
    "    'Median': [\n",
    "        san_francisco_2020_median, san_francisco_2023_median,\n",
    "        new_york_2020_median, new_york_2023_median,\n",
    "        twin_cities_2020_median, twin_cities_2023_median\n",
    "    ],\n",
    "    'Mode': [\n",
    "        san_francisco_2020[\"Price\"].mode().iloc[0], san_francisco_2023[\"Price\"].mode().iloc[0],\n",
    "        new_york_2020[\"Price\"].mode().iloc[0], new_york_2023[\"Price\"].mode().iloc[0],\n",
    "        twin_cities_2020[\"Price\"].mode().iloc[0], twin_cities_2023[\"Price\"].mode().iloc[0]\n",
    "    ]\n",
    "}\n",
    "\n",
    "# Create a DataFrame\n",
    "summary_data_df = pd.DataFrame(summary_data)\n",
    "\n",
    "# Print the resulting DataFrame\n",
    "summary_data_df"
   ]
  },
  {
   "cell_type": "code",
   "execution_count": null,
   "metadata": {},
   "outputs": [],
   "source": [
    "# Export summary data to csv\n",
    "summary_data_df.to_csv(\"output/summary_data.csv\", index=True)"
   ]
  },
  {
   "cell_type": "code",
   "execution_count": null,
   "metadata": {},
   "outputs": [],
   "source": [
    "# Create a boxplot for summary data\n"
   ]
  }
 ],
 "metadata": {
  "kernelspec": {
   "display_name": "dev",
   "language": "python",
   "name": "python3"
  },
  "language_info": {
   "codemirror_mode": {
    "name": "ipython",
    "version": 3
   },
   "file_extension": ".py",
   "mimetype": "text/x-python",
   "name": "python",
   "nbconvert_exporter": "python",
   "pygments_lexer": "ipython3",
   "version": "3.10.12"
  },
  "orig_nbformat": 4
 },
 "nbformat": 4,
 "nbformat_minor": 2
}
