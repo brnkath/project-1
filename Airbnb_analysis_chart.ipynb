{
 "cells": [
  {
   "cell_type": "code",
   "execution_count": null,
   "metadata": {},
   "outputs": [],
   "source": [
    "# Dependencies\n",
    "import pandas as pd\n",
    "from pathlib import Path\n",
    "import matplotlib.pyplot as plt\n",
    "\n",
    "# Turn off warning messages\n",
    "import warnings\n",
    "warnings.filterwarnings(\"ignore\")"
   ]
  },
  {
   "cell_type": "code",
   "execution_count": null,
   "metadata": {},
   "outputs": [],
   "source": [
    "# Import the csv files\n",
    "clean_2020_data = Path(\"output/clean_2020.csv\")\n",
    "clean_2023_data = Path(\"output/clean_2023.csv\")"
   ]
  },
  {
   "cell_type": "code",
   "execution_count": null,
   "metadata": {},
   "outputs": [],
   "source": [
    "# Create dataframes from the imported csv files\n",
    "clean_2020_df = pd.read_csv(clean_2020_data)\n",
    "clean_2023_df = pd.read_csv(clean_2023_data)"
   ]
  },
  {
   "cell_type": "code",
   "execution_count": null,
   "metadata": {},
   "outputs": [],
   "source": [
    "# Display the cleaned 2020 dataframe\n",
    "clean_2020_df.head()"
   ]
  },
  {
   "cell_type": "code",
   "execution_count": null,
   "metadata": {
    "scrolled": true
   },
   "outputs": [],
   "source": [
    "# Display the cleaned 2023 dataframe\n",
    "clean_2023_df.head()"
   ]
  },
  {
   "cell_type": "markdown",
   "metadata": {},
   "source": [
    "## Creating and exporting plots"
   ]
  },
  {
   "cell_type": "markdown",
   "metadata": {},
   "source": [
    "## Plotting average price for each city 2020"
   ]
  },
  {
   "cell_type": "code",
   "execution_count": null,
   "metadata": {},
   "outputs": [],
   "source": [
    "#create a new data frame that isolates price, listing type, and city \n",
    "bar_data_2020 = clean_2020_df[['City','Price','Listing Type']]\n",
    "\n",
    "bar_data_2020.head()\n"
   ]
  },
  {
   "cell_type": "code",
   "execution_count": null,
   "metadata": {},
   "outputs": [],
   "source": [
    "#calculate the average price per city \n",
    "city_group_2020 = bar_data_2020.groupby(\"City\")\n",
    "\n",
    "price_avg_20 = city_group_2020.mean()\n",
    "\n",
    "price_avg_20\n"
   ]
  },
  {
   "cell_type": "code",
   "execution_count": null,
   "metadata": {},
   "outputs": [],
   "source": [
    "#plot the average price per city \n",
    "ax_20 = price_avg_20.plot(kind=\"bar\", title = \"Average Listing Price per City (2020)\", figsize=(10,5))\n",
    "\n",
    "ax_20.bar_label(ax_20.containers[0])\n",
    "\n",
    "#save \n",
    "plt.savefig(\"images/fig1_2020.png\")\n",
    "\n",
    "plt.show()"
   ]
  },
  {
   "cell_type": "markdown",
   "metadata": {},
   "source": [
    "## Average price for 2023"
   ]
  },
  {
   "cell_type": "code",
   "execution_count": null,
   "metadata": {},
   "outputs": [],
   "source": [
    "#create a new data frame that isolates price, listing type, and city \n",
    "bar_data_2023 = clean_2023_df[['City','Price','Listing Type']]\n",
    "\n",
    "bar_data_2023.head()"
   ]
  },
  {
   "cell_type": "code",
   "execution_count": null,
   "metadata": {},
   "outputs": [],
   "source": [
    "#calculate the average price per city \n",
    "city_group_2023 = bar_data_2023.groupby(\"City\")\n",
    "\n",
    "price_avg_23 = city_group_2023.mean()\n",
    "\n",
    "price_avg_23"
   ]
  },
  {
   "cell_type": "code",
   "execution_count": null,
   "metadata": {
    "scrolled": true
   },
   "outputs": [],
   "source": [
    "#plot the average price per city \n",
    "ax_23 =price_avg_23.plot(kind=\"bar\",title = \"Average Listing Price per City (2023)\", figsize=(10,5))\n",
    "\n",
    "ax_23.bar_label(ax_23.containers[0])\n",
    "\n",
    "#save \n",
    "plt.savefig(\"images/fig1_2023.png\")\n",
    "\n",
    "plt.show()\n"
   ]
  },
  {
   "cell_type": "markdown",
   "metadata": {},
   "source": [
    "## Plot the listing type percent for each city"
   ]
  },
  {
   "cell_type": "code",
   "execution_count": null,
   "metadata": {},
   "outputs": [],
   "source": [
    "#find the number of each listing for each city \n",
    "\n",
    "listing_2020 = city_group_2020['Listing Type'].count()\n",
    "\n",
    "listing_total_20 = listing_2020.sum()"
   ]
  },
  {
   "cell_type": "code",
   "execution_count": null,
   "metadata": {},
   "outputs": [],
   "source": [
    "# find percent of total for each city \n",
    "listing_percent_20 = listing_2020 / listing_total_20"
   ]
  },
  {
   "cell_type": "code",
   "execution_count": null,
   "metadata": {},
   "outputs": [],
   "source": [
    "#Create pie chart \n",
    "listing_percent_20.plot.pie( legend = True,ylabel = '',title = \"Percentage of Total Listings in Each City (2020)\",autopct='%1.1f%%', labeldistance= None, figsize = (15,5))\n",
    "\n",
    "#save \n",
    "plt.savefig(\"images/fig2_2020.png\")\n",
    "\n",
    "plt.show()"
   ]
  },
  {
   "cell_type": "code",
   "execution_count": null,
   "metadata": {},
   "outputs": [],
   "source": [
    "#find the number of each listing for each city \n",
    "\n",
    "listing_2023 = city_group_2023['Listing Type'].count()\n",
    "\n",
    "listing_total_23 = listing_2023.sum()"
   ]
  },
  {
   "cell_type": "code",
   "execution_count": null,
   "metadata": {},
   "outputs": [],
   "source": [
    "# find percent of total for each city \n",
    "listing_percent_23 = listing_2023 / listing_total_23"
   ]
  },
  {
   "cell_type": "code",
   "execution_count": null,
   "metadata": {},
   "outputs": [],
   "source": [
    "#Create pie chart \n",
    "listing_percent_23.plot.pie( legend = True,ylabel = '',title = \"Percentage of Total Listings in Each City (2023)\",autopct='%1.1f%%', labeldistance= None, figsize = (15,5))\n",
    "\n",
    "#save \n",
    "plt.savefig(\"images/fig2_2023.png\")\n",
    "\n",
    "plt.show()"
   ]
  },
  {
   "cell_type": "code",
   "execution_count": null,
   "metadata": {},
   "outputs": [],
   "source": []
  }
 ],
 "metadata": {
  "kernelspec": {
   "display_name": "Python 3 (ipykernel)",
   "language": "python",
   "name": "python3"
  },
  "language_info": {
   "codemirror_mode": {
    "name": "ipython",
    "version": 3
   },
   "file_extension": ".py",
   "mimetype": "text/x-python",
   "name": "python",
   "nbconvert_exporter": "python",
   "pygments_lexer": "ipython3",
   "version": "3.10.12"
  }
 },
 "nbformat": 4,
 "nbformat_minor": 4
}
