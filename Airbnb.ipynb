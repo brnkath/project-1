{
 "cells": [
  {
   "cell_type": "code",
   "execution_count": null,
   "metadata": {},
   "outputs": [],
   "source": [
    "# Dependencies\n",
    "import pandas as pd\n",
    "from pathlib import Path"
   ]
  },
  {
   "cell_type": "markdown",
   "metadata": {},
   "source": [
    "## Importing and cleaning up data"
   ]
  },
  {
   "cell_type": "code",
   "execution_count": null,
   "metadata": {},
   "outputs": [],
   "source": [
    "# Importing csv files and creating dataframes\n",
    "data_2020 = Path(\"resources/AB_US_2020.csv\")\n",
    "data_2023 = Path(\"resources/AB_US_2023.csv\")\n",
    "\n",
    "df_2020 = pd.read_csv(data_2020, low_memory=False)\n",
    "df_2023 = pd.read_csv(data_2023, low_memory=False)"
   ]
  },
  {
   "cell_type": "code",
   "execution_count": null,
   "metadata": {},
   "outputs": [],
   "source": [
    "# Display 2020 data head\n",
    "df_2020.head()"
   ]
  },
  {
   "cell_type": "code",
   "execution_count": null,
   "metadata": {},
   "outputs": [],
   "source": [
    "# Display 2023 data head\n",
    "df_2023.head()"
   ]
  },
  {
   "cell_type": "code",
   "execution_count": null,
   "metadata": {},
   "outputs": [],
   "source": [
    "# Show unique cities for 2020 data\n",
    "df_2020[\"city\"].unique()"
   ]
  },
  {
   "cell_type": "code",
   "execution_count": null,
   "metadata": {},
   "outputs": [],
   "source": [
    "# Show unique columns for the 2020 data\n",
    "df_2020.columns"
   ]
  },
  {
   "cell_type": "code",
   "execution_count": null,
   "metadata": {},
   "outputs": [],
   "source": [
    "# Show unique cities for 2023 data\n",
    "df_2023[\"city\"].unique()"
   ]
  },
  {
   "cell_type": "code",
   "execution_count": null,
   "metadata": {},
   "outputs": [],
   "source": [
    "# Show unique columns for the 2023 data\n",
    "df_2023.columns"
   ]
  },
  {
   "cell_type": "markdown",
   "metadata": {},
   "source": [
    "## Narrow the data to the target cities"
   ]
  },
  {
   "cell_type": "code",
   "execution_count": null,
   "metadata": {},
   "outputs": [],
   "source": [
    "# Narrow the data to only San Francisco, New York City, and Twin Cities MSA for 2020\n",
    "df_2020 = df_2020.loc[(df_2020[\"city\"] == \"San Francisco\") | (df_2020[\"city\"] == \"New York City\") | (df_2020[\"city\"] == \"Twin Cities MSA\")]\n",
    "\n",
    "# df_2020[\"city\"].unique()\n",
    "df_2020.head()"
   ]
  },
  {
   "cell_type": "code",
   "execution_count": null,
   "metadata": {},
   "outputs": [],
   "source": [
    "# Narrow the data to only San Francisco, New York City, and Twin Cities MSA for 2023\n",
    "df_2023 = df_2023.loc[(df_2023[\"city\"] == \"San Francisco\") | (df_2023[\"city\"] == \"New York City\") | (df_2023[\"city\"] == \"Twin Cities MSA\")]\n",
    "\n",
    "# df_2020[\"city\"].unique()\n",
    "df_2023.head()"
   ]
  },
  {
   "cell_type": "markdown",
   "metadata": {},
   "source": [
    "## Narrow the data to the target columns"
   ]
  },
  {
   "cell_type": "code",
   "execution_count": null,
   "metadata": {},
   "outputs": [],
   "source": [
    "# Select specific columns for review\n",
    "df_2020 = df_2020[[\"id\", \"name\", \"host_id\", \"latitude\", \"longitude\", \"room_type\", \"price\", \"minimum_nights\", \"number_of_reviews\", \"calculated_host_listings_count\",\"availability_365\", \"city\"]]\n"
   ]
  },
  {
   "cell_type": "code",
   "execution_count": null,
   "metadata": {},
   "outputs": [],
   "source": [
    "# Rename the columns\n",
    "df_2020 = df_2020.rename(columns={\"id\": \"Listing ID\", \n",
    "                                  \"name\": \"Description\",\n",
    "                                  \"host_id\": \"Host ID\", \n",
    "                                  \"latitude\": \"Latitude\", \n",
    "                                  \"longitude\": \"Longitude\", \n",
    "                                  \"room_type\": \"Listing Type\", \n",
    "                                  \"price\": \"Price\", \n",
    "                                  \"minimum_nights\": \"Minimum Nights\", \n",
    "                                  \"number_of_reviews\": \n",
    "                                  \"Number of Reviews\", \n",
    "                                  \"calculated_host_listings_count\": \"Number of Listings Per Host\",\n",
    "                                  \"availability_365\": \"Availability\", \n",
    "                                  \"city\": \"City\"})"
   ]
  },
  {
   "cell_type": "code",
   "execution_count": null,
   "metadata": {},
   "outputs": [],
   "source": [
    "# Reorganize the columns\n",
    "df_2020 = df_2020[[\"Listing ID\", \"Host ID\", \"Number of Listings Per Host\", \"City\", \"Latitude\", \"Longitude\", \"Listing Type\", \"Price\", \"Minimum Nights\", \"Availability\", \"Number of Reviews\"]]\n",
    "\n"
   ]
  },
  {
   "cell_type": "code",
   "execution_count": null,
   "metadata": {},
   "outputs": [],
   "source": [
    "df_2020 = df_2020.loc[df_2020[\"Availability\"] != 0]"
   ]
  },
  {
   "cell_type": "code",
   "execution_count": null,
   "metadata": {},
   "outputs": [],
   "source": [
    "# Set the index to listing id\n",
    "df_2020 = df_2020.set_index(\"Listing ID\")\n",
    "\n",
    "# Display\n",
    "df_2020.head()"
   ]
  },
  {
   "cell_type": "code",
   "execution_count": null,
   "metadata": {},
   "outputs": [],
   "source": [
    "\n",
    "# Select specific columns for review\n",
    "df_2023 = df_2023[[\"id\", \"name\", \"host_id\", \"latitude\", \"longitude\", \"room_type\", \"price\", \"minimum_nights\", \"number_of_reviews\", \"calculated_host_listings_count\", \"availability_365\", \"city\"]]\n"
   ]
  },
  {
   "cell_type": "code",
   "execution_count": null,
   "metadata": {},
   "outputs": [],
   "source": [
    "# Rename the columns\n",
    "df_2023 = df_2023.rename(columns={\"id\": \"Listing ID\", \n",
    "                                  \"name\": \"Description\",\n",
    "                                  \"host_id\": \"Host ID\",\n",
    "                                  \"calculated_host_listings_count\":  \"Number of Listings Per Host\", \n",
    "                                  \"latitude\": \"Latitude\", \n",
    "                                  \"longitude\": \"Longitude\", \n",
    "                                  \"room_type\": \"Listing Type\", \n",
    "                                  \"price\": \"Price\", \n",
    "                                  \"minimum_nights\": \"Minimum Nights\", \n",
    "                                  \"number_of_reviews\": \n",
    "                                  \"Number of Reviews\", \n",
    "                                  \"availability_365\": \"Availability\", \n",
    "                                  \"city\": \"City\"})"
   ]
  },
  {
   "cell_type": "code",
   "execution_count": null,
   "metadata": {},
   "outputs": [],
   "source": [
    "# Reorganize the columns\n",
    "df_2023 = df_2023[[\"Listing ID\", \"Host ID\", \"Number of Listings Per Host\", \"City\", \"Latitude\", \"Longitude\", \"Listing Type\", \"Price\", \"Minimum Nights\", \"Availability\", \"Number of Reviews\"]]"
   ]
  },
  {
   "cell_type": "code",
   "execution_count": null,
   "metadata": {},
   "outputs": [],
   "source": [
    "df_2023 = df_2023.loc[df_2023[\"Availability\"] != 0]"
   ]
  },
  {
   "cell_type": "code",
   "execution_count": null,
   "metadata": {},
   "outputs": [],
   "source": [
    "# Set the index to listing id\n",
    "df_2023 = df_2023.set_index(\"Listing ID\")\n",
    "\n",
    "# Display\n",
    "df_2023.head()"
   ]
  },
  {
   "cell_type": "markdown",
   "metadata": {},
   "source": [
    "## Exporting finished dataframes to csv files"
   ]
  },
  {
   "cell_type": "code",
   "execution_count": null,
   "metadata": {},
   "outputs": [],
   "source": [
    "# Save finished dataframes as csv files\n",
    "df_2020.to_csv(\"output/clean_2020.csv\", index=True)\n",
    "df_2023.to_csv(\"output/clean_2023.csv\", index=True)\n"
   ]
  },
  {
   "cell_type": "code",
   "execution_count": null,
   "metadata": {},
   "outputs": [],
   "source": []
  }
 ],
 "metadata": {
  "kernelspec": {
   "display_name": "dev",
   "language": "python",
   "name": "python3"
  },
  "language_info": {
   "codemirror_mode": {
    "name": "ipython",
    "version": 3
   },
   "file_extension": ".py",
   "mimetype": "text/x-python",
   "name": "python",
   "nbconvert_exporter": "python",
   "pygments_lexer": "ipython3",
   "version": "3.10.12"
  },
  "orig_nbformat": 4
 },
 "nbformat": 4,
 "nbformat_minor": 2
}
